{
 "cells": [
  {
   "cell_type": "code",
   "execution_count": 1,
   "metadata": {},
   "outputs": [],
   "source": [
    "import numpy as np\n",
    "import pandas as pd\n",
    "import pickle"
   ]
  },
  {
   "cell_type": "code",
   "execution_count": 2,
   "metadata": {},
   "outputs": [],
   "source": [
    "dataset=pd.read_csv(\"50_Startups.csv\")\n"
   ]
  },
  {
   "cell_type": "code",
   "execution_count": 3,
   "metadata": {},
   "outputs": [],
   "source": [
    "dataset=pd.get_dummies(dataset,drop_first=True)\n",
    "indep=dataset[['R&D Spend', 'Administration', 'Marketing Spend','State_Florida', 'State_New York']]\n",
    "dep=dataset[['Profit']]\n"
   ]
  },
  {
   "cell_type": "code",
   "execution_count": 4,
   "metadata": {},
   "outputs": [],
   "source": [
    "from sklearn.model_selection import train_test_split\n",
    "x_train,x_test,y_train,y_test=train_test_split(indep,dep,test_size=1/3,random_state=0)"
   ]
  },
  {
   "cell_type": "code",
   "execution_count": 5,
   "metadata": {},
   "outputs": [],
   "source": [
    "from sklearn.preprocessing import StandardScaler\n",
    "scx=StandardScaler()\n",
    "x_train=scx.fit_transform(x_train)\n",
    "x_test=scx.transform(x_test)"
   ]
  },
  {
   "cell_type": "code",
   "execution_count": 6,
   "metadata": {},
   "outputs": [],
   "source": [
    "scy=StandardScaler()\n",
    "y_train=scy.fit_transform(y_train)\n",
    "y_test=scy.transform(y_test)\n"
   ]
  },
  {
   "cell_type": "code",
   "execution_count": 7,
   "metadata": {},
   "outputs": [
    {
     "data": {
      "text/plain": [
       "(array([[-1.41859108,  0.08007161, -1.46280061, -0.42257713,  1.24034735],\n",
       "        [-1.42804718, -2.75105709, -1.4772005 , -0.42257713,  1.24034735],\n",
       "        [-0.08524282,  1.20920221, -0.66688679, -0.42257713,  1.24034735],\n",
       "        [ 0.92434855,  0.02000827,  0.50267699, -0.42257713,  1.24034735],\n",
       "        [-0.15976805, -0.25272669, -0.7879527 ,  2.36643191, -0.80622577],\n",
       "        [-0.13057752,  0.27816764, -1.12864651, -0.42257713, -0.80622577],\n",
       "        [ 0.17083067, -0.01984459,  0.52211324, -0.42257713, -0.80622577],\n",
       "        [-0.95132351, -1.01325988, -0.357832  , -0.42257713, -0.80622577],\n",
       "        [ 0.13452258, -0.3220869 ,  0.78167175, -0.42257713, -0.80622577],\n",
       "        [-1.11922093,  0.20633131, -1.2084469 , -0.42257713,  1.24034735],\n",
       "        [ 1.04856916,  1.04056545,  0.87960683, -0.42257713,  1.24034735],\n",
       "        [ 0.45934048,  0.52352964,  0.433766  , -0.42257713, -0.80622577],\n",
       "        [-0.1046588 ,  0.68219546, -0.43375555, -0.42257713, -0.80622577],\n",
       "        [ 1.2824925 , -0.87152415,  1.26720849, -0.42257713,  1.24034735],\n",
       "        [ 0.51433704,  0.89819281,  0.65997794, -0.42257713,  1.24034735],\n",
       "        [-0.84579118, -0.13915411, -0.17030469, -0.42257713, -0.80622577],\n",
       "        [-1.43923421, -0.20023597, -1.13554563, -0.42257713, -0.80622577],\n",
       "        [ 1.9165203 ,  1.14451467,  1.88011237, -0.42257713, -0.80622577],\n",
       "        [ 0.49796233,  0.20391032,  0.41239613,  2.36643191, -0.80622577],\n",
       "        [-0.52970146, -2.76904286,  0.01298107, -0.42257713, -0.80622577],\n",
       "        [ 0.15083   , -0.8923782 , -0.41399892, -0.42257713,  1.24034735],\n",
       "        [ 1.33901196,  0.98113238, -0.51124703, -0.42257713, -0.80622577],\n",
       "        [-0.04547162, -0.63942208,  0.82783976,  2.36643191, -0.80622577],\n",
       "        [-0.8476604 ,  0.19358163,  0.04397071,  2.36643191, -0.80622577],\n",
       "        [ 0.17859813,  1.23818877,  0.78978575, -0.42257713,  1.24034735],\n",
       "        [ 0.34432914,  1.22804971, -1.4772005 , -0.42257713,  1.24034735],\n",
       "        [ 1.10619897, -0.52493576,  0.82944989, -0.42257713, -0.80622577],\n",
       "        [-0.6434487 , -1.52965682, -0.1536381 , -0.42257713, -0.80622577],\n",
       "        [-1.41208524, -0.24588716,  0.76994864,  2.36643191, -0.80622577],\n",
       "        [ 1.54037969, -0.1342355 ,  1.42103171, -0.42257713,  1.24034735],\n",
       "        [ 1.97330683,  0.57837448,  2.09101774, -0.42257713,  1.24034735],\n",
       "        [-1.43923421,  0.52086506, -1.4772005 , -0.42257713, -0.80622577],\n",
       "        [-0.9815214 ,  1.27856634, -1.2628981 , -0.42257713, -0.80622577]]),\n",
       " array([[-0.07603728,  2.36704999, -0.58361684,  2.36643191, -0.80622577],\n",
       "        [ 0.63847282, -1.18525561,  0.41167846, -0.42257713, -0.80622577],\n",
       "        [ 0.66408753, -0.4500642 ,  0.25599967,  2.36643191, -0.80622577],\n",
       "        [-0.86356929, -1.46206777, -0.2332684 ,  2.36643191, -0.80622577],\n",
       "        [ 1.7275513 , -0.81949011,  1.60810794,  2.36643191, -0.80622577],\n",
       "        [ 0.04895046,  0.22518663,  1.19401482, -0.42257713,  1.24034735],\n",
       "        [-1.02172808, -2.19566942, -0.07599535, -0.42257713,  1.24034735],\n",
       "        [-0.17747785,  1.19629418, -0.8099845 , -0.42257713,  1.24034735],\n",
       "        [ 0.08789427,  0.02649513,  0.81687706,  2.36643191, -0.80622577],\n",
       "        [ 1.49363229, -1.20084971,  1.29222059,  2.36643191, -0.80622577],\n",
       "        [-0.29392851, -0.74473584,  0.14613493,  2.36643191, -0.80622577],\n",
       "        [-0.48957899, -1.44890443,  0.07717955, -0.42257713,  1.24034735],\n",
       "        [ 0.11543228,  0.86137752, -0.46334712,  2.36643191, -0.80622577],\n",
       "        [-0.48107494,  1.39147463,  0.1171137 , -0.42257713, -0.80622577],\n",
       "        [ 0.4543206 , -0.31002536,  0.75334816,  2.36643191, -0.80622577],\n",
       "        [ 1.24990923,  0.91588416,  0.97235784,  2.36643191, -0.80622577],\n",
       "        [ 1.03620098,  1.34664803,  0.46286929,  2.36643191, -0.80622577]]),\n",
       " array([[-0.9972897 ],\n",
       "        [-1.67195107],\n",
       "        [-0.16520119],\n",
       "        [ 0.50161245],\n",
       "        [-0.18981082],\n",
       "        [-0.24769379],\n",
       "        [ 0.434173  ],\n",
       "        [-0.84570863],\n",
       "        [ 0.23769956],\n",
       "        [-0.88582737],\n",
       "        [ 1.01580118],\n",
       "        [ 0.60286723],\n",
       "        [-0.01760337],\n",
       "        [ 1.12602848],\n",
       "        [ 0.39675151],\n",
       "        [-0.69022964],\n",
       "        [-2.15609485],\n",
       "        [ 1.92865093],\n",
       "        [ 0.77072541],\n",
       "        [-0.42017685],\n",
       "        [ 0.00886631],\n",
       "        [ 1.10599551],\n",
       "        [ 0.01306267],\n",
       "        [-0.40267069],\n",
       "        [ 0.07254346],\n",
       "        [ 0.33693676],\n",
       "        [ 0.95925449],\n",
       "        [-0.62644017],\n",
       "        [-1.35327843],\n",
       "        [ 1.72361711],\n",
       "        [ 1.93948535],\n",
       "        [-1.51313022],\n",
       "        [-0.99096461]]),\n",
       " array([[-0.11266912],\n",
       "        [ 0.83239375],\n",
       "        [ 0.87535019],\n",
       "        [-0.70040237],\n",
       "        [ 1.91154562],\n",
       "        [-0.07286358],\n",
       "        [-0.62129015],\n",
       "        [-0.24640871],\n",
       "        [ 0.05038499],\n",
       "        [ 1.33813695],\n",
       "        [-0.26265999],\n",
       "        [-0.26956535],\n",
       "        [-0.05613743],\n",
       "        [-0.26418493],\n",
       "        [ 0.37130191],\n",
       "        [ 1.09746419],\n",
       "        [ 0.56355132]]))"
      ]
     },
     "execution_count": 7,
     "metadata": {},
     "output_type": "execute_result"
    }
   ],
   "source": [
    "x_train,x_test,y_train,y_test"
   ]
  },
  {
   "cell_type": "code",
   "execution_count": 8,
   "metadata": {},
   "outputs": [
    {
     "name": "stdout",
     "output_type": "stream",
     "text": [
      "Fitting 5 folds for each of 12 candidates, totalling 60 fits\n"
     ]
    },
    {
     "name": "stderr",
     "output_type": "stream",
     "text": [
      "C:\\Users\\PC\\Anaconda3\\lib\\site-packages\\sklearn\\utils\\validation.py:993: DataConversionWarning: A column-vector y was passed when a 1d array was expected. Please change the shape of y to (n_samples, ), for example using ravel().\n",
      "  y = column_or_1d(y, warn=True)\n"
     ]
    },
    {
     "data": {
      "text/plain": [
       "GridSearchCV(estimator=SVR(), n_jobs=-1,\n",
       "             param_grid={'C': [100, 1000, 3000],\n",
       "                         'kernel': ['rbf', 'poly', 'linear', 'sigmoid']},\n",
       "             verbose=3)"
      ]
     },
     "execution_count": 8,
     "metadata": {},
     "output_type": "execute_result"
    }
   ],
   "source": [
    "from sklearn.model_selection import GridSearchCV\n",
    "from sklearn.svm import SVR\n",
    "param_grid={'kernel':['rbf','poly','linear','sigmoid'], 'C':[100,1000,3000]}\n",
    "grid=GridSearchCV(SVR(),param_grid,refit=True,verbose=3,n_jobs=-1)\n",
    "grid.fit(x_train,y_train)"
   ]
  },
  {
   "cell_type": "code",
   "execution_count": 9,
   "metadata": {},
   "outputs": [
    {
     "name": "stdout",
     "output_type": "stream",
     "text": [
      "The R_Score Value for best parameters{'C': 3000, 'kernel': 'linear'}:\n"
     ]
    }
   ],
   "source": [
    "re=grid.cv_results_\n",
    "print(\"The R_Score Value for best parameters{}:\".format(grid.best_params_))"
   ]
  },
  {
   "cell_type": "code",
   "execution_count": 10,
   "metadata": {},
   "outputs": [
    {
     "data": {
      "text/plain": [
       "array([ 0.03149282,  0.59565863,  0.7309895 , -0.71536796,  1.78864603,\n",
       "        0.09980322, -0.99227474, -0.22253061,  0.24236495,  1.54938307,\n",
       "       -0.15967014, -0.48487405,  0.19719718, -0.42111484,  0.57110189,\n",
       "        1.33035569,  1.10710435])"
      ]
     },
     "execution_count": 10,
     "metadata": {},
     "output_type": "execute_result"
    }
   ],
   "source": [
    "grid_pred=grid.predict(x_test)\n",
    "grid_pred"
   ]
  },
  {
   "cell_type": "code",
   "execution_count": 11,
   "metadata": {
    "scrolled": true
   },
   "outputs": [],
   "source": [
    "table=pd.DataFrame.from_dict(re)\n"
   ]
  },
  {
   "cell_type": "code",
   "execution_count": 12,
   "metadata": {},
   "outputs": [],
   "source": [
    "filename1=\"finalized_input_prepro both-SVM.sav\"\n",
    "pickle.dump(scx,open(filename1,'wb'))"
   ]
  },
  {
   "cell_type": "code",
   "execution_count": 13,
   "metadata": {},
   "outputs": [],
   "source": [
    "filename2=\"finalized_output_prepro both-SVM.sav\"\n",
    "pickle.dump(scy,open(filename2,'wb'))"
   ]
  },
  {
   "cell_type": "code",
   "execution_count": 14,
   "metadata": {},
   "outputs": [],
   "source": [
    "input=pickle.load(open(\"finalized_input_prepro both-SVM.sav\",'rb'))"
   ]
  },
  {
   "cell_type": "code",
   "execution_count": 15,
   "metadata": {},
   "outputs": [],
   "source": [
    "output=pickle.load(open(\"finalized_output_prepro both-SVM.sav\",'rb'))"
   ]
  },
  {
   "cell_type": "code",
   "execution_count": 16,
   "metadata": {},
   "outputs": [],
   "source": [
    "filename=\"finalized_50_Startups_prepro X only-SVM.sav\"\n",
    "pickle.dump(grid,open(filename,'wb'))"
   ]
  },
  {
   "cell_type": "code",
   "execution_count": 17,
   "metadata": {},
   "outputs": [],
   "source": [
    "loaded_model=pickle.load(open(\"finalized_50_Startups_prepro X only-SVM.sav\",'rb'))"
   ]
  },
  {
   "cell_type": "code",
   "execution_count": 18,
   "metadata": {},
   "outputs": [
    {
     "name": "stderr",
     "output_type": "stream",
     "text": [
      "C:\\Users\\PC\\Anaconda3\\lib\\site-packages\\sklearn\\base.py:451: UserWarning: X does not have valid feature names, but StandardScaler was fitted with feature names\n",
      "  \"X does not have valid feature names, but\"\n"
     ]
    },
    {
     "data": {
      "text/plain": [
       "array([[-1.41240431, -4.30496048, -1.44694752, -0.42257713,  1.24034735]])"
      ]
     },
     "execution_count": 18,
     "metadata": {},
     "output_type": "execute_result"
    }
   ],
   "source": [
    "preinput=scx.transform([[1300,12000,4000,0,1]])\n",
    "preinput"
   ]
  },
  {
   "cell_type": "code",
   "execution_count": 19,
   "metadata": {},
   "outputs": [
    {
     "data": {
      "text/plain": [
       "array([-1.46217782])"
      ]
     },
     "execution_count": 19,
     "metadata": {},
     "output_type": "execute_result"
    }
   ],
   "source": [
    "result=loaded_model.predict(preinput)\n",
    "result"
   ]
  },
  {
   "cell_type": "code",
   "execution_count": 20,
   "metadata": {},
   "outputs": [
    {
     "data": {
      "text/plain": [
       "array([[44768.9770621]])"
      ]
     },
     "execution_count": 20,
     "metadata": {},
     "output_type": "execute_result"
    }
   ],
   "source": [
    "preoutput=scy.inverse_transform([result])\n",
    "preoutput"
   ]
  },
  {
   "cell_type": "code",
   "execution_count": null,
   "metadata": {},
   "outputs": [],
   "source": []
  }
 ],
 "metadata": {
  "kernelspec": {
   "display_name": "Python 3",
   "language": "python",
   "name": "python3"
  },
  "language_info": {
   "codemirror_mode": {
    "name": "ipython",
    "version": 3
   },
   "file_extension": ".py",
   "mimetype": "text/x-python",
   "name": "python",
   "nbconvert_exporter": "python",
   "pygments_lexer": "ipython3",
   "version": "3.7.4"
  }
 },
 "nbformat": 4,
 "nbformat_minor": 2
}
